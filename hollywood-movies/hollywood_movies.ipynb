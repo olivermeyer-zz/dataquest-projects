{
 "cells": [
  {
   "cell_type": "markdown",
   "metadata": {},
   "source": [
    "# Data Visualisation Challenge\n",
    "**Objective: Understand the economics underlying Hollywood movies through the use of data visualisations.**\n",
    "The data was retrieved from https://github.com/jgoodall/cinevis/blob/master/data/csvs/moviedata.csv\n",
    "**This project is based on the Dataquest *Data Visualization* challenge.**\n",
    "## Environment Setup and Data Cleaning\n",
    "Let's start by setting up our environment and importing the data."
   ]
  },
  {
   "cell_type": "code",
   "execution_count": 2,
   "metadata": {
    "collapsed": false
   },
   "outputs": [
    {
     "name": "stderr",
     "output_type": "stream",
     "text": [
      "/opt/ds/lib/python3.4/site-packages/matplotlib/__init__.py:872: UserWarning: axes.color_cycle is deprecated and replaced with axes.prop_cycle; please use the latter.\n",
      "  warnings.warn(self.msg_depr % (key, alt_key))\n"
     ]
    }
   ],
   "source": [
    "# Import necessary packages\n",
    "import pandas as pd\n",
    "import matplotlib.pyplot as plt\n",
    "import seaborn as sns\n",
    "%matplotlib inline"
   ]
  },
  {
   "cell_type": "code",
   "execution_count": 3,
   "metadata": {
    "collapsed": true
   },
   "outputs": [],
   "source": [
    "# Import the data\n",
    "hollywood_movies = pd.read_csv(\"hollywood_movies.csv\")"
   ]
  },
  {
   "cell_type": "markdown",
   "metadata": {},
   "source": [
    "We can now take a first look at our data."
   ]
  },
  {
   "cell_type": "code",
   "execution_count": 4,
   "metadata": {
    "collapsed": false
   },
   "outputs": [
    {
     "data": {
      "text/html": [
       "<div>\n",
       "<table border=\"1\" class=\"dataframe\">\n",
       "  <thead>\n",
       "    <tr style=\"text-align: right;\">\n",
       "      <th></th>\n",
       "      <th>Year</th>\n",
       "      <th>exclude</th>\n",
       "      <th>Film</th>\n",
       "      <th>Lead Studio</th>\n",
       "      <th>Critic Rating</th>\n",
       "      <th>Audience Rating</th>\n",
       "      <th>Story</th>\n",
       "      <th>Genre</th>\n",
       "      <th>Opening Weekend Theaters</th>\n",
       "      <th>Opening Weekend per Cinema</th>\n",
       "      <th>Domestic Gross</th>\n",
       "      <th>Foreign Gross</th>\n",
       "      <th>Worldwide Gross</th>\n",
       "      <th>Budget</th>\n",
       "      <th>Profitability</th>\n",
       "      <th>Opening Weekend Revenue</th>\n",
       "      <th>Oscar</th>\n",
       "    </tr>\n",
       "  </thead>\n",
       "  <tbody>\n",
       "    <tr>\n",
       "      <th>0</th>\n",
       "      <td>2011</td>\n",
       "      <td>NaN</td>\n",
       "      <td>Average</td>\n",
       "      <td>NaN</td>\n",
       "      <td>52.84</td>\n",
       "      <td>61.42</td>\n",
       "      <td>NaN</td>\n",
       "      <td>NaN</td>\n",
       "      <td>2810.31</td>\n",
       "      <td>8764.92</td>\n",
       "      <td>61.33</td>\n",
       "      <td>93.53</td>\n",
       "      <td>144.86</td>\n",
       "      <td>52.25</td>\n",
       "      <td>3.4200</td>\n",
       "      <td>20.14</td>\n",
       "      <td>NaN</td>\n",
       "    </tr>\n",
       "    <tr>\n",
       "      <th>1</th>\n",
       "      <td>2011</td>\n",
       "      <td>NaN</td>\n",
       "      <td>The Tree Of Life</td>\n",
       "      <td>Independant</td>\n",
       "      <td>84.00</td>\n",
       "      <td>61.00</td>\n",
       "      <td>Discovery</td>\n",
       "      <td>Drama</td>\n",
       "      <td>4.00</td>\n",
       "      <td>93230.00</td>\n",
       "      <td>13.30</td>\n",
       "      <td>41.00</td>\n",
       "      <td>54.30</td>\n",
       "      <td>32.00</td>\n",
       "      <td>1.6970</td>\n",
       "      <td>0.37</td>\n",
       "      <td>NaN</td>\n",
       "    </tr>\n",
       "    <tr>\n",
       "      <th>2</th>\n",
       "      <td>2011</td>\n",
       "      <td>NaN</td>\n",
       "      <td>Midnight in Paris</td>\n",
       "      <td>Sony</td>\n",
       "      <td>93.00</td>\n",
       "      <td>84.00</td>\n",
       "      <td>Love</td>\n",
       "      <td>Romance</td>\n",
       "      <td>944.00</td>\n",
       "      <td>61777.00</td>\n",
       "      <td>56.18</td>\n",
       "      <td>83.00</td>\n",
       "      <td>139.18</td>\n",
       "      <td>17.00</td>\n",
       "      <td>8.1869</td>\n",
       "      <td>5.83</td>\n",
       "      <td>NaN</td>\n",
       "    </tr>\n",
       "    <tr>\n",
       "      <th>3</th>\n",
       "      <td>2011</td>\n",
       "      <td>NaN</td>\n",
       "      <td>Harry Potter and the Deathly Hallows Part 2</td>\n",
       "      <td>Warner Bros</td>\n",
       "      <td>96.00</td>\n",
       "      <td>92.00</td>\n",
       "      <td>Rivalry</td>\n",
       "      <td>Fantasy</td>\n",
       "      <td>4375.00</td>\n",
       "      <td>38672.00</td>\n",
       "      <td>381.01</td>\n",
       "      <td>947.10</td>\n",
       "      <td>1328.11</td>\n",
       "      <td>125.00</td>\n",
       "      <td>10.6249</td>\n",
       "      <td>169.19</td>\n",
       "      <td>NaN</td>\n",
       "    </tr>\n",
       "    <tr>\n",
       "      <th>4</th>\n",
       "      <td>2011</td>\n",
       "      <td>NaN</td>\n",
       "      <td>Twilight: Breaking Dawn</td>\n",
       "      <td>Independant</td>\n",
       "      <td>26.00</td>\n",
       "      <td>68.00</td>\n",
       "      <td>Love</td>\n",
       "      <td>Romance</td>\n",
       "      <td>4061.00</td>\n",
       "      <td>34012.00</td>\n",
       "      <td>260.80</td>\n",
       "      <td>374.00</td>\n",
       "      <td>634.80</td>\n",
       "      <td>110.00</td>\n",
       "      <td>5.7709</td>\n",
       "      <td>138.12</td>\n",
       "      <td>NaN</td>\n",
       "    </tr>\n",
       "  </tbody>\n",
       "</table>\n",
       "</div>"
      ],
      "text/plain": [
       "   Year  exclude                                         Film  Lead Studio  \\\n",
       "0  2011      NaN                                      Average          NaN   \n",
       "1  2011      NaN                             The Tree Of Life  Independant   \n",
       "2  2011      NaN                            Midnight in Paris         Sony   \n",
       "3  2011      NaN  Harry Potter and the Deathly Hallows Part 2  Warner Bros   \n",
       "4  2011      NaN                      Twilight: Breaking Dawn  Independant   \n",
       "\n",
       "   Critic Rating  Audience Rating      Story    Genre  \\\n",
       "0          52.84            61.42        NaN      NaN   \n",
       "1          84.00            61.00  Discovery    Drama   \n",
       "2          93.00            84.00       Love  Romance   \n",
       "3          96.00            92.00    Rivalry  Fantasy   \n",
       "4          26.00            68.00       Love  Romance   \n",
       "\n",
       "   Opening Weekend Theaters  Opening Weekend per Cinema  Domestic Gross  \\\n",
       "0                   2810.31                     8764.92           61.33   \n",
       "1                      4.00                    93230.00           13.30   \n",
       "2                    944.00                    61777.00           56.18   \n",
       "3                   4375.00                    38672.00          381.01   \n",
       "4                   4061.00                    34012.00          260.80   \n",
       "\n",
       "   Foreign Gross  Worldwide Gross  Budget  Profitability  \\\n",
       "0          93.53           144.86   52.25         3.4200   \n",
       "1          41.00            54.30   32.00         1.6970   \n",
       "2          83.00           139.18   17.00         8.1869   \n",
       "3         947.10          1328.11  125.00        10.6249   \n",
       "4         374.00           634.80  110.00         5.7709   \n",
       "\n",
       "   Opening Weekend Revenue Oscar  \n",
       "0                    20.14   NaN  \n",
       "1                     0.37   NaN  \n",
       "2                     5.83   NaN  \n",
       "3                   169.19   NaN  \n",
       "4                   138.12   NaN  "
      ]
     },
     "execution_count": 4,
     "metadata": {},
     "output_type": "execute_result"
    }
   ],
   "source": [
    "# Display the first 5 rows of the DataFrame\n",
    "hollywood_movies.head()"
   ]
  },
  {
   "cell_type": "markdown",
   "metadata": {},
   "source": [
    "Let's take a look at the exclude column, for which the first 5 rows contain missing values."
   ]
  },
  {
   "cell_type": "code",
   "execution_count": 5,
   "metadata": {
    "collapsed": false
   },
   "outputs": [
    {
     "data": {
      "text/plain": [
       "Series([], Name: exclude, dtype: int64)"
      ]
     },
     "execution_count": 5,
     "metadata": {},
     "output_type": "execute_result"
    }
   ],
   "source": [
    "# Select the exclude colum and display its distribution\n",
    "hollywood_movies[\"exclude\"].value_counts()"
   ]
  },
  {
   "cell_type": "markdown",
   "metadata": {},
   "source": [
    "The exclude column only contains missing values, so we can remove it from the DataFrame."
   ]
  },
  {
   "cell_type": "code",
   "execution_count": 6,
   "metadata": {
    "collapsed": false
   },
   "outputs": [],
   "source": [
    "# Remove the exclude column\n",
    "hollywood_movies.drop(\"exclude\", axis=1, inplace=True)"
   ]
  },
  {
   "cell_type": "markdown",
   "metadata": {},
   "source": [
    "## Scatter Plots – Profitability and Audience Ratings\n",
    "Let's explore the relationship between a movie's profitability and its audience rating."
   ]
  },
  {
   "cell_type": "code",
   "execution_count": 7,
   "metadata": {
    "collapsed": false
   },
   "outputs": [
    {
     "data": {
      "image/png": "[encoded data removed]",
      "text/plain": [
       "<matplotlib.figure.Figure at 0x7feadafeaf28>"
      ]
     },
     "metadata": {},
     "output_type": "display_data"
    }
   ],
   "source": [
    "# Generate a figure of size (6,10)\n",
    "fig = plt.figure(figsize=(6,10))\n",
    "# Generate two vertically oriented subplots\n",
    "ax1 = fig.add_subplot(2,1,1)\n",
    "ax2 = fig.add_subplot(2,1,2)\n",
    "\n",
    "# In the top subplot, create a scatter plot with Profitability on the x-axis and Audience Rating on the y-axis\n",
    "ax1.scatter(hollywood_movies[\"Profitability\"], hollywood_movies[\"Audience Rating\"])\n",
    "# Set the x- and y-axis labels\n",
    "ax1.set_xlabel(\"Profitability\")\n",
    "ax1.set_ylabel(\"Audience Rating\")\n",
    "\n",
    "# In the bottom subplot, create the reverse scatter plot\n",
    "ax2.scatter(hollywood_movies[\"Audience Rating\"], hollywood_movies[\"Profitability\"])\n",
    "# Set the x- and y-axis labels\n",
    "ax2.set_xlabel(\"Audience Rating\")\n",
    "ax2.set_ylabel(\"Profitability\")\n",
    "\n",
    "# Set the title of both subplots to \"Hollywood Movies, 2007-2011\"\n",
    "ax1.set_title(\"Hollywood Movies, 2007 - 2011\")\n",
    "ax2.set_title(\"Hollywood Movies, 2007 - 2011\")\n",
    "\n",
    "# Display the plots\n",
    "plt.show()"
   ]
  },
  {
   "cell_type": "markdown",
   "metadata": {},
   "source": [
    "Because of the outlier (*Paranormal Activity*), the plots aren't very useful. Let's remove this row and explore this relationship again.\n",
    "## Scatter Matrix – Profitability and Audience Ratings\n",
    "Let's filter out *Paranormal Activity* and create a scatter matrix of the Profitability and Audience Rating columns."
   ]
  },
  {
   "cell_type": "code",
   "execution_count": 8,
   "metadata": {
    "collapsed": false
   },
   "outputs": [],
   "source": [
    "# Create a copy of the DataFrame where the row containing Paranormal Activity in the Film column is removed\n",
    "normal_movies = hollywood_movies[hollywood_movies[\"Film\"] != \"Paranormal Activity\"]"
   ]
  },
  {
   "cell_type": "code",
   "execution_count": 9,
   "metadata": {
    "collapsed": false
   },
   "outputs": [
    {
     "data": {
      "image/png": "[encoded data removed]",
      "text/plain": [
       "<matplotlib.figure.Figure at 0x7feadafea6d8>"
      ]
     },
     "metadata": {},
     "output_type": "display_data"
    }
   ],
   "source": [
    "# Generate a scatter matrix of Profitability vs Audience Rating\n",
    "pd.scatter_matrix(normal_movies[[\"Profitability\", \"Audience Rating\"]], figsize=(6,6))\n",
    "\n",
    "# Display the scatter matrix\n",
    "plt.show()"
   ]
  },
  {
   "cell_type": "markdown",
   "metadata": {},
   "source": [
    "There seems to be a slight positive correlation between Audience Rating and Profitability. However, this correlation seems very light. Let's check how the columns correlate exactly."
   ]
  },
  {
   "cell_type": "code",
   "execution_count": 10,
   "metadata": {
    "collapsed": false
   },
   "outputs": [
    {
     "data": {
      "text/html": [
       "<div>\n",
       "<table border=\"1\" class=\"dataframe\">\n",
       "  <thead>\n",
       "    <tr style=\"text-align: right;\">\n",
       "      <th></th>\n",
       "      <th>Profitability</th>\n",
       "      <th>Audience Rating</th>\n",
       "    </tr>\n",
       "  </thead>\n",
       "  <tbody>\n",
       "    <tr>\n",
       "      <th>Profitability</th>\n",
       "      <td>1.000000</td>\n",
       "      <td>0.114385</td>\n",
       "    </tr>\n",
       "    <tr>\n",
       "      <th>Audience Rating</th>\n",
       "      <td>0.114385</td>\n",
       "      <td>1.000000</td>\n",
       "    </tr>\n",
       "  </tbody>\n",
       "</table>\n",
       "</div>"
      ],
      "text/plain": [
       "                 Profitability  Audience Rating\n",
       "Profitability         1.000000         0.114385\n",
       "Audience Rating       0.114385         1.000000"
      ]
     },
     "execution_count": 10,
     "metadata": {},
     "output_type": "execute_result"
    }
   ],
   "source": [
    "# Compute the correlation between the Profitability and Audience Rating columns\n",
    "normal_movies[[\"Profitability\", \"Audience Rating\"]].corr()"
   ]
  },
  {
   "cell_type": "markdown",
   "metadata": {},
   "source": [
    "Indeed, there is a positive correlation but it is practically insignificant.\n",
    "## Box Plot – Audience and Critic Ratings\n",
    "Let's compare the distribution of audience and critic ratings using a box plots."
   ]
  },
  {
   "cell_type": "code",
   "execution_count": 11,
   "metadata": {
    "collapsed": false
   },
   "outputs": [
    {
     "data": {
      "image/png": "[encoded data removed]",
      "text/plain": [
       "<matplotlib.figure.Figure at 0x7feadace4780>"
      ]
     },
     "metadata": {},
     "output_type": "display_data"
    }
   ],
   "source": [
    "# Generate a box plot of both columns\n",
    "normal_movies[[\"Critic Rating\", \"Audience Rating\"]].plot(kind=\"box\")\n",
    "\n",
    "# Display the plot\n",
    "plt.show()"
   ]
  },
  {
   "cell_type": "markdown",
   "metadata": {},
   "source": [
    "The median Critic Rating is lower than that of Audience Ratings. Critic ratings (ranging from ~0 to ~100) are more spread out than audience ratings (ranging from ~20 to ~95).\n",
    "## Box Plot - Critic vs Audience Ratings Per Year\n",
    "Let's explore how this distribution evolved over the years."
   ]
  },
  {
   "cell_type": "code",
   "execution_count": 21,
   "metadata": {
    "collapsed": false
   },
   "outputs": [
    {
     "name": "stderr",
     "output_type": "stream",
     "text": [
      "/opt/ds/lib/python3.4/site-packages/matplotlib/__init__.py:892: UserWarning: axes.color_cycle is deprecated and replaced with axes.prop_cycle; please use the latter.\n",
      "  warnings.warn(self.msg_depr % (key, alt_key))\n"
     ]
    },
    {
     "data": {
      "image/png": "[encoded data removed]",
      "text/plain": [
       "<matplotlib.figure.Figure at 0x7feada8b1908>"
      ]
     },
     "metadata": {},
     "output_type": "display_data"
    }
   ],
   "source": [
    "# Sort the values in normal_movies by year\n",
    "normal_movies = normal_movies.sort_values(\"Year\")\n",
    "\n",
    "# Create a figure instance and set its size to (8,4)\n",
    "fig = plt.figure(figsize=(8,4))\n",
    "\n",
    "# Create two horizontally-oriented subplots\n",
    "ax1 = fig.add_subplot(1,2,1)\n",
    "ax2 = fig.add_subplot(1,2,2)\n",
    "\n",
    "# LEFT SUBPLOT\n",
    "# Generate a box plot of Critic Rating for each Year, using Seaborn's boxplot function\n",
    "sns.boxplot(data=normal_movies, x=\"Year\", y=\"Critic Rating\", ax=ax1)\n",
    "\n",
    "# RIGHT SUBPLOT\n",
    "# Generate a box plot of Audience Rating for each Year, using Seaborn's boxplot function\n",
    "sns.boxplot(data=normal_movies, x=\"Year\", y=\"Audience Rating\", ax=ax2)\n",
    "\n",
    "# Display the plots\n",
    "plt.show()"
   ]
  },
  {
   "cell_type": "markdown",
   "metadata": {},
   "source": [
    "Critic ratings are more consistent over the years; however they are also more spread out than audience ratings. These tend to very more over the years (perhaps being more influenced by single, popular movies)."
   ]
  },
  {
   "cell_type": "markdown",
   "metadata": {},
   "source": [
    "## Box Plots - Profitable vs Unprofitable Movies\n",
    "Let's explore the role of ratings in the profitability (or unprofitability) of movies. From Dataquest:"
   ]
  },
  {
   "cell_type": "code",
   "execution_count": 22,
   "metadata": {
    "collapsed": false
   },
   "outputs": [
    {
     "name": "stdout",
     "output_type": "stream",
     "text": [
      "True     447\n",
      "False     69\n",
      "Name: Profitable, dtype: int64\n"
     ]
    }
   ],
   "source": [
    "# Define a function called is_profitable which takes a row as argument\n",
    "def is_profitable(row):\n",
    "    # If the Profitability value for the given row is lesser than or equal to 1\n",
    "    if row[\"Profitability\"] <= 1.0:\n",
    "        # Return False\n",
    "        return False\n",
    "    # Return True (implicit else)\n",
    "    return True\n",
    "# Apply is_profitable to normal_movies, row by row, and store the output in a new column Profitable\n",
    "normal_movies[\"Profitable\"] = normal_movies.apply(is_profitable, axis=1)\n",
    "# Print the distribution of the new Profitable column\n",
    "print(normal_movies[\"Profitable\"].value_counts())"
   ]
  },
  {
   "cell_type": "code",
   "execution_count": 106,
   "metadata": {
    "collapsed": false
   },
   "outputs": [
    {
     "name": "stderr",
     "output_type": "stream",
     "text": [
      "/opt/ds/lib/python3.4/site-packages/matplotlib/__init__.py:892: UserWarning: axes.color_cycle is deprecated and replaced with axes.prop_cycle; please use the latter.\n",
      "  warnings.warn(self.msg_depr % (key, alt_key))\n"
     ]
    },
    {
     "data": {
      "image/png": "[encoded data removed]",
      "text/plain": [
       "<matplotlib.figure.Figure at 0x7f1e93a22898>"
      ]
     },
     "metadata": {},
     "output_type": "display_data"
    }
   ],
   "source": [
    "# Create a figure instance of size (12,6)\n",
    "fig = plt.figure(figsize=(12,6))\n",
    "\n",
    "# Add 2 horizontally-oriented subplots\n",
    "ax1 = fig.add_subplot(1,2,1)\n",
    "ax2 = fig.add_subplot(1,2,2)\n",
    "\n",
    "# LEFT SUBPLOT\n",
    "# Generate a boxplot for Audience Rating, for profitable and unprofitable movies\n",
    "sns.boxplot(data=normal_movies, x=\"Profitable\", y=\"Audience Rating\", ax=ax1)\n",
    "\n",
    "# RIGHT SUBPLOT\n",
    "# Generate a boxplot for Critic Rating, for profitable and unprofitable movies\n",
    "sns.boxplot(data=normal_movies, x=\"Profitable\", y=\"Critic Rating\", ax=ax2)\n",
    "\n",
    "# Display the plots\n",
    "plt.show()"
   ]
  },
  {
   "cell_type": "markdown",
   "metadata": {},
   "source": [
    "Again, there seems to be a slight correlation between audience rating and profitability (i.e. profitable films tend to receive higher audience ratings – or vice-versa). It's interesting to note that extreme ratings are similar for profitable and non-profitable movies. Critic ratings are not correlated with profitability."
   ]
  }
 ],
 "metadata": {
  "kernelspec": {
   "display_name": "Python 3",
   "language": "python",
   "name": "python3"
  },
  "language_info": {
   "codemirror_mode": {
    "name": "ipython",
    "version": 3
   },
   "file_extension": ".py",
   "mimetype": "text/x-python",
   "name": "python",
   "nbconvert_exporter": "python",
   "pygments_lexer": "ipython3",
   "version": "3.4.3"
  }
 },
 "nbformat": 4,
 "nbformat_minor": 0
}
