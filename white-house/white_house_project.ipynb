{
 "cells": [
  {
   "cell_type": "markdown",
   "metadata": {},
   "source": [
    "# White House Project\n",
    "First, import the necessary packages as well as the data. Get an idea of the structure of the data, the range of values and their distribution."
   ]
  },
  {
   "cell_type": "code",
   "execution_count": 2,
   "metadata": {
    "collapsed": false
   },
   "outputs": [
    {
     "name": "stdout",
     "output_type": "stream",
     "text": [
      "(474, 5)\n"
     ]
    },
    {
     "data": {
      "text/html": [
       "<div>\n",
       "<table border=\"1\" class=\"dataframe\">\n",
       "  <thead>\n",
       "    <tr style=\"text-align: right;\">\n",
       "      <th></th>\n",
       "      <th>Name</th>\n",
       "      <th>Status</th>\n",
       "      <th>Salary</th>\n",
       "      <th>Pay Basis</th>\n",
       "      <th>Position Title</th>\n",
       "    </tr>\n",
       "  </thead>\n",
       "  <tbody>\n",
       "    <tr>\n",
       "      <th>0</th>\n",
       "      <td>Abdullah, Hasan A.</td>\n",
       "      <td>Detailee</td>\n",
       "      <td>105960</td>\n",
       "      <td>Per Annum</td>\n",
       "      <td>POLICY ADVISOR</td>\n",
       "    </tr>\n",
       "    <tr>\n",
       "      <th>1</th>\n",
       "      <td>Abraham, Sabey M.</td>\n",
       "      <td>Employee</td>\n",
       "      <td>55000</td>\n",
       "      <td>Per Annum</td>\n",
       "      <td>ENERGY AND ENVIRONMENT DIRECTOR FOR PRESIDENTI...</td>\n",
       "    </tr>\n",
       "    <tr>\n",
       "      <th>2</th>\n",
       "      <td>Abraham, Yohannes A.</td>\n",
       "      <td>Employee</td>\n",
       "      <td>121200</td>\n",
       "      <td>Per Annum</td>\n",
       "      <td>SPECIAL ASSISTANT TO THE PRESIDENT AND CHIEF O...</td>\n",
       "    </tr>\n",
       "    <tr>\n",
       "      <th>3</th>\n",
       "      <td>Abramson, Jerry E.</td>\n",
       "      <td>Employee</td>\n",
       "      <td>155035</td>\n",
       "      <td>Per Annum</td>\n",
       "      <td>DEPUTY ASSISTANT TO THE PRESIDENT AND DIRECTOR...</td>\n",
       "    </tr>\n",
       "    <tr>\n",
       "      <th>4</th>\n",
       "      <td>Adler, Caroline E.</td>\n",
       "      <td>Employee</td>\n",
       "      <td>114000</td>\n",
       "      <td>Per Annum</td>\n",
       "      <td>SPECIAL ASSISTANT TO THE PRESIDENT AND DIRECTO...</td>\n",
       "    </tr>\n",
       "  </tbody>\n",
       "</table>\n",
       "</div>"
      ],
      "text/plain": [
       "                   Name    Status  Salary  Pay Basis  \\\n",
       "0    Abdullah, Hasan A.  Detailee  105960  Per Annum   \n",
       "1     Abraham, Sabey M.  Employee   55000  Per Annum   \n",
       "2  Abraham, Yohannes A.  Employee  121200  Per Annum   \n",
       "3    Abramson, Jerry E.  Employee  155035  Per Annum   \n",
       "4    Adler, Caroline E.  Employee  114000  Per Annum   \n",
       "\n",
       "                                      Position Title  \n",
       "0                                     POLICY ADVISOR  \n",
       "1  ENERGY AND ENVIRONMENT DIRECTOR FOR PRESIDENTI...  \n",
       "2  SPECIAL ASSISTANT TO THE PRESIDENT AND CHIEF O...  \n",
       "3  DEPUTY ASSISTANT TO THE PRESIDENT AND DIRECTOR...  \n",
       "4  SPECIAL ASSISTANT TO THE PRESIDENT AND DIRECTO...  "
      ]
     },
     "execution_count": 2,
     "metadata": {},
     "output_type": "execute_result"
    }
   ],
   "source": [
    "# Import pandas\n",
    "import pandas as pd\n",
    "import matplotlib.pyplot as plt\n",
    "import seaborn as sns\n",
    "%matplotlib inline\n",
    "\n",
    "# Read the data into a pandas dataframe and print the shape of the dataframe\n",
    "white_house_data = pd.read_csv(\"2015_white_house.csv\")\n",
    "print(white_house_data.shape)\n",
    "\n",
    "# Display the first 5 rows\n",
    "white_house_data.head()"
   ]
  },
  {
   "cell_type": "code",
   "execution_count": 3,
   "metadata": {
    "collapsed": false
   },
   "outputs": [
    {
     "data": {
      "text/plain": [
       "<matplotlib.axes._subplots.AxesSubplot at 0x7f7cdf7766d8>"
      ]
     },
     "execution_count": 3,
     "metadata": {},
     "output_type": "execute_result"
    },
    {
     "data": {
      "image/png": "[encoded data removed]",
      "text/plain": [
       "<matplotlib.figure.Figure at 0x7f7d0405e048>"
      ]
     },
     "metadata": {},
     "output_type": "display_data"
    }
   ],
   "source": [
    "# Visually check the distribution of the Salary column\n",
    "white_house_data[\"Salary\"].hist()"
   ]
  },
  {
   "cell_type": "markdown",
   "metadata": {},
   "source": [
    "Questions:\n",
    "1. How does the length of an employee's title correlate with their salary?\n",
    "2. How much does the White House pay in total salary?\n",
    "3. Who are the highest and lowest paid staffers?\n",
    "4. What words are the most common in titles?\n",
    "5. How much does the word 'Senior' add to one's salary expectation?\n",
    "6. Who earns more; detailees or employees?\n",
    "7. Which position has the highest average salary?"
   ]
  },
  {
   "cell_type": "markdown",
   "metadata": {},
   "source": [
    "### Question 1: How does the length of an employee's title correlate with their salary?"
   ]
  },
  {
   "cell_type": "code",
   "execution_count": 4,
   "metadata": {
    "collapsed": false
   },
   "outputs": [],
   "source": [
    "# Find the length of each employee's title\n",
    "title_length = white_house_data[\"Position Title\"].str.len()"
   ]
  },
  {
   "cell_type": "code",
   "execution_count": 5,
   "metadata": {
    "collapsed": false
   },
   "outputs": [],
   "source": [
    "# Add the column to the dataframe\n",
    "white_house_data[\"Title Length\"] = title_length"
   ]
  },
  {
   "cell_type": "code",
   "execution_count": 6,
   "metadata": {
    "collapsed": false
   },
   "outputs": [],
   "source": [
    "# Select Salary and Title Length columns\n",
    "salary_length = white_house_data[[\"Salary\", \"Title Length\"]]"
   ]
  },
  {
   "cell_type": "code",
   "execution_count": 7,
   "metadata": {
    "collapsed": false
   },
   "outputs": [
    {
     "data": {
      "text/html": [
       "<div>\n",
       "<table border=\"1\" class=\"dataframe\">\n",
       "  <thead>\n",
       "    <tr style=\"text-align: right;\">\n",
       "      <th></th>\n",
       "      <th>Salary</th>\n",
       "      <th>Title Length</th>\n",
       "    </tr>\n",
       "  </thead>\n",
       "  <tbody>\n",
       "    <tr>\n",
       "      <th>Salary</th>\n",
       "      <td>1.000000</td>\n",
       "      <td>0.532837</td>\n",
       "    </tr>\n",
       "    <tr>\n",
       "      <th>Title Length</th>\n",
       "      <td>0.532837</td>\n",
       "      <td>1.000000</td>\n",
       "    </tr>\n",
       "  </tbody>\n",
       "</table>\n",
       "</div>"
      ],
      "text/plain": [
       "                Salary  Title Length\n",
       "Salary        1.000000      0.532837\n",
       "Title Length  0.532837      1.000000"
      ]
     },
     "execution_count": 7,
     "metadata": {},
     "output_type": "execute_result"
    }
   ],
   "source": [
    "# Perform a pairwise correlation on the columns\n",
    "salary_length.corr()"
   ]
  },
  {
   "cell_type": "code",
   "execution_count": 32,
   "metadata": {
    "collapsed": false
   },
   "outputs": [
    {
     "name": "stderr",
     "output_type": "stream",
     "text": [
      "/opt/ds/lib/python3.4/site-packages/matplotlib/__init__.py:892: UserWarning: axes.color_cycle is deprecated and replaced with axes.prop_cycle; please use the latter.\n",
      "  warnings.warn(self.msg_depr % (key, alt_key))\n"
     ]
    },
    {
     "data": {
      "text/plain": [
       "<seaborn.axisgrid.PairGrid at 0x7f7cdecc46a0>"
      ]
     },
     "execution_count": 32,
     "metadata": {},
     "output_type": "execute_result"
    },
    {
     "data": {
      "image/png": "[encoded data removed]",
      "text/plain": [
       "<matplotlib.figure.Figure at 0x7f7cdee91f98>"
      ]
     },
     "metadata": {},
     "output_type": "display_data"
    }
   ],
   "source": [
    "# Visually explore the correlation\n",
    "sns.pairplot(white_house_data[[\"Title Length\", \"Salary\"]], kind=\"reg\")"
   ]
  },
  {
   "cell_type": "markdown",
   "metadata": {},
   "source": [
    "**Answer 1:** There is a correlation of ~0.53 between the length of an employee's title and their salary."
   ]
  },
  {
   "cell_type": "markdown",
   "metadata": {},
   "source": [
    "*Question for later: what is the expected salary increase for an extra letter in one's title? (Linear regression)*"
   ]
  },
  {
   "cell_type": "markdown",
   "metadata": {},
   "source": [
    "### Question 2: How much does the White House pay in total salary?"
   ]
  },
  {
   "cell_type": "markdown",
   "metadata": {},
   "source": [
    "First, we need to check that all salaries are on a yearly basis."
   ]
  },
  {
   "cell_type": "code",
   "execution_count": 9,
   "metadata": {
    "collapsed": false
   },
   "outputs": [
    {
     "name": "stdout",
     "output_type": "stream",
     "text": [
      "['Per Annum']\n"
     ]
    }
   ],
   "source": [
    "# Display the unique values for Pay Basis\n",
    "print(white_house_data[\"Pay Basis\"].unique())"
   ]
  },
  {
   "cell_type": "markdown",
   "metadata": {},
   "source": [
    "All salaries in the data are on a yearly basis, meaning we can simply sum the whole column."
   ]
  },
  {
   "cell_type": "code",
   "execution_count": 10,
   "metadata": {
    "collapsed": false
   },
   "outputs": [
    {
     "name": "stdout",
     "output_type": "stream",
     "text": [
      "40225595\n"
     ]
    }
   ],
   "source": [
    "# Sum the value for \"Salary\" over the whole dataframe\n",
    "total_salary = white_house_data[\"Salary\"].sum()\n",
    "\n",
    "# Display the result\n",
    "print(total_salary)"
   ]
  },
  {
   "cell_type": "markdown",
   "metadata": {},
   "source": [
    "**Answer 2:** The White House pays $40,225,595 per year in salary."
   ]
  },
  {
   "cell_type": "markdown",
   "metadata": {},
   "source": [
    "### Question 3: Who are the highest and lowest paid staffers?"
   ]
  },
  {
   "cell_type": "markdown",
   "metadata": {},
   "source": [
    "We want a list of the 10 highest and 10 lowest paid staffers, along with their salary and title."
   ]
  },
  {
   "cell_type": "code",
   "execution_count": 11,
   "metadata": {
    "collapsed": false
   },
   "outputs": [],
   "source": [
    "# Sort the dataframe by salary\n",
    "white_house_salary_sorted = white_house_data.sort_values(by=\"Salary\")"
   ]
  },
  {
   "cell_type": "code",
   "execution_count": 12,
   "metadata": {
    "collapsed": false
   },
   "outputs": [
    {
     "data": {
      "text/html": [
       "<div>\n",
       "<table border=\"1\" class=\"dataframe\">\n",
       "  <thead>\n",
       "    <tr style=\"text-align: right;\">\n",
       "      <th></th>\n",
       "      <th>Name</th>\n",
       "      <th>Status</th>\n",
       "      <th>Salary</th>\n",
       "      <th>Pay Basis</th>\n",
       "      <th>Position Title</th>\n",
       "      <th>Title Length</th>\n",
       "    </tr>\n",
       "  </thead>\n",
       "  <tbody>\n",
       "    <tr>\n",
       "      <th>210</th>\n",
       "      <td>Kale, Katy A.</td>\n",
       "      <td>Employee</td>\n",
       "      <td>173922</td>\n",
       "      <td>Per Annum</td>\n",
       "      <td>ASSISTANT TO THE PRESIDENT FOR MANAGEMENT AND ...</td>\n",
       "      <td>60</td>\n",
       "    </tr>\n",
       "    <tr>\n",
       "      <th>201</th>\n",
       "      <td>Johnson, Broderick D.</td>\n",
       "      <td>Employee</td>\n",
       "      <td>173922</td>\n",
       "      <td>Per Annum</td>\n",
       "      <td>ASSISTANT TO THE PRESIDENT AND CABINET SECRETARY</td>\n",
       "      <td>48</td>\n",
       "    </tr>\n",
       "    <tr>\n",
       "      <th>200</th>\n",
       "      <td>Jarrett, Valerie B.</td>\n",
       "      <td>Employee</td>\n",
       "      <td>173922</td>\n",
       "      <td>Per Annum</td>\n",
       "      <td>SENIOR ADVISOR AND ASSISTANT TO THE PRESIDENT ...</td>\n",
       "      <td>97</td>\n",
       "    </tr>\n",
       "    <tr>\n",
       "      <th>403</th>\n",
       "      <td>Simas, David M.</td>\n",
       "      <td>Employee</td>\n",
       "      <td>173922</td>\n",
       "      <td>Per Annum</td>\n",
       "      <td>ASSISTANT TO THE PRESIDENT AND DIRECTOR OF THE...</td>\n",
       "      <td>88</td>\n",
       "    </tr>\n",
       "    <tr>\n",
       "      <th>130</th>\n",
       "      <td>Fallon, Katherine B.</td>\n",
       "      <td>Employee</td>\n",
       "      <td>173922</td>\n",
       "      <td>Per Annum</td>\n",
       "      <td>ASSISTANT TO THE PRESIDENT AND DIRECTOR OF THE...</td>\n",
       "      <td>76</td>\n",
       "    </tr>\n",
       "    <tr>\n",
       "      <th>426</th>\n",
       "      <td>Tchen, Christina M.</td>\n",
       "      <td>Employee</td>\n",
       "      <td>173922</td>\n",
       "      <td>Per Annum</td>\n",
       "      <td>ASSISTANT TO THE PRESIDENT AND CHIEF OF STAFF ...</td>\n",
       "      <td>63</td>\n",
       "    </tr>\n",
       "    <tr>\n",
       "      <th>121</th>\n",
       "      <td>Eggleston, Warren N.</td>\n",
       "      <td>Employee</td>\n",
       "      <td>173922</td>\n",
       "      <td>Per Annum</td>\n",
       "      <td>ASSISTANT TO THE PRESIDENT AND COUNSEL TO THE ...</td>\n",
       "      <td>55</td>\n",
       "    </tr>\n",
       "    <tr>\n",
       "      <th>117</th>\n",
       "      <td>Earnest, Joshua R.</td>\n",
       "      <td>Employee</td>\n",
       "      <td>173922</td>\n",
       "      <td>Per Annum</td>\n",
       "      <td>ASSISTANT TO THE PRESIDENT AND PRESS SECRETARY</td>\n",
       "      <td>46</td>\n",
       "    </tr>\n",
       "    <tr>\n",
       "      <th>52</th>\n",
       "      <td>Breckenridge, Anita J.</td>\n",
       "      <td>Employee</td>\n",
       "      <td>173922</td>\n",
       "      <td>Per Annum</td>\n",
       "      <td>ASSISTANT TO THE PRESIDENT AND DEPUTY CHIEF OF...</td>\n",
       "      <td>67</td>\n",
       "    </tr>\n",
       "    <tr>\n",
       "      <th>70</th>\n",
       "      <td>Canegallo, Kristie A.</td>\n",
       "      <td>Employee</td>\n",
       "      <td>173922</td>\n",
       "      <td>Per Annum</td>\n",
       "      <td>ASSISTANT TO THE PRESIDENT AND DEPUTY CHIEF OF...</td>\n",
       "      <td>71</td>\n",
       "    </tr>\n",
       "  </tbody>\n",
       "</table>\n",
       "</div>"
      ],
      "text/plain": [
       "                       Name    Status  Salary  Pay Basis  \\\n",
       "210           Kale, Katy A.  Employee  173922  Per Annum   \n",
       "201   Johnson, Broderick D.  Employee  173922  Per Annum   \n",
       "200     Jarrett, Valerie B.  Employee  173922  Per Annum   \n",
       "403         Simas, David M.  Employee  173922  Per Annum   \n",
       "130   Fallon, Katherine B.   Employee  173922  Per Annum   \n",
       "426     Tchen, Christina M.  Employee  173922  Per Annum   \n",
       "121    Eggleston, Warren N.  Employee  173922  Per Annum   \n",
       "117      Earnest, Joshua R.  Employee  173922  Per Annum   \n",
       "52   Breckenridge, Anita J.  Employee  173922  Per Annum   \n",
       "70    Canegallo, Kristie A.  Employee  173922  Per Annum   \n",
       "\n",
       "                                        Position Title  Title Length  \n",
       "210  ASSISTANT TO THE PRESIDENT FOR MANAGEMENT AND ...            60  \n",
       "201   ASSISTANT TO THE PRESIDENT AND CABINET SECRETARY            48  \n",
       "200  SENIOR ADVISOR AND ASSISTANT TO THE PRESIDENT ...            97  \n",
       "403  ASSISTANT TO THE PRESIDENT AND DIRECTOR OF THE...            88  \n",
       "130  ASSISTANT TO THE PRESIDENT AND DIRECTOR OF THE...            76  \n",
       "426  ASSISTANT TO THE PRESIDENT AND CHIEF OF STAFF ...            63  \n",
       "121  ASSISTANT TO THE PRESIDENT AND COUNSEL TO THE ...            55  \n",
       "117     ASSISTANT TO THE PRESIDENT AND PRESS SECRETARY            46  \n",
       "52   ASSISTANT TO THE PRESIDENT AND DEPUTY CHIEF OF...            67  \n",
       "70   ASSISTANT TO THE PRESIDENT AND DEPUTY CHIEF OF...            71  "
      ]
     },
     "execution_count": 12,
     "metadata": {},
     "output_type": "execute_result"
    }
   ],
   "source": [
    "# Find the length of the dataframe\n",
    "df_length = white_house_salary_sorted.shape[0]\n",
    "# Find 10 highest paid staffers\n",
    "ten_highest = white_house_salary_sorted.iloc[df_length-11:df_length-1,:]\n",
    "\n",
    "# Display the result\n",
    "ten_highest"
   ]
  },
  {
   "cell_type": "code",
   "execution_count": 13,
   "metadata": {
    "collapsed": false
   },
   "outputs": [
    {
     "data": {
      "text/html": [
       "<div>\n",
       "<table border=\"1\" class=\"dataframe\">\n",
       "  <thead>\n",
       "    <tr style=\"text-align: right;\">\n",
       "      <th></th>\n",
       "      <th>Name</th>\n",
       "      <th>Status</th>\n",
       "      <th>Salary</th>\n",
       "      <th>Pay Basis</th>\n",
       "      <th>Position Title</th>\n",
       "      <th>Title Length</th>\n",
       "    </tr>\n",
       "  </thead>\n",
       "  <tbody>\n",
       "    <tr>\n",
       "      <th>243</th>\n",
       "      <td>Leary, Kimberlyn R.</td>\n",
       "      <td>Employee</td>\n",
       "      <td>0</td>\n",
       "      <td>Per Annum</td>\n",
       "      <td>ADVISOR TO THE COUNCIL ON WOMEN AND GIRLS</td>\n",
       "      <td>41</td>\n",
       "    </tr>\n",
       "    <tr>\n",
       "      <th>326</th>\n",
       "      <td>Park, Todd Y.</td>\n",
       "      <td>Employee</td>\n",
       "      <td>0</td>\n",
       "      <td>Per Annum</td>\n",
       "      <td>ADVISOR FOR TECHNOLOGY</td>\n",
       "      <td>22</td>\n",
       "    </tr>\n",
       "    <tr>\n",
       "      <th>235</th>\n",
       "      <td>Lamm, Garrett C.</td>\n",
       "      <td>Employee</td>\n",
       "      <td>41000</td>\n",
       "      <td>Per Annum</td>\n",
       "      <td>ANALYST</td>\n",
       "      <td>7</td>\n",
       "    </tr>\n",
       "    <tr>\n",
       "      <th>85</th>\n",
       "      <td>Conn-Powers, Alyse C.</td>\n",
       "      <td>Employee</td>\n",
       "      <td>42000</td>\n",
       "      <td>Per Annum</td>\n",
       "      <td>ANALYST</td>\n",
       "      <td>7</td>\n",
       "    </tr>\n",
       "    <tr>\n",
       "      <th>91</th>\n",
       "      <td>Cutillo, Andrew D.</td>\n",
       "      <td>Employee</td>\n",
       "      <td>42000</td>\n",
       "      <td>Per Annum</td>\n",
       "      <td>ANALYST</td>\n",
       "      <td>7</td>\n",
       "    </tr>\n",
       "    <tr>\n",
       "      <th>100</th>\n",
       "      <td>Dessources, Kalisha</td>\n",
       "      <td>Employee</td>\n",
       "      <td>42000</td>\n",
       "      <td>Per Annum</td>\n",
       "      <td>STAFF ASSISTANT</td>\n",
       "      <td>15</td>\n",
       "    </tr>\n",
       "    <tr>\n",
       "      <th>281</th>\n",
       "      <td>McKay, Caroline M.</td>\n",
       "      <td>Employee</td>\n",
       "      <td>42000</td>\n",
       "      <td>Per Annum</td>\n",
       "      <td>STAFF ASSISTANT</td>\n",
       "      <td>15</td>\n",
       "    </tr>\n",
       "    <tr>\n",
       "      <th>108</th>\n",
       "      <td>Donohue, Kelsey A.</td>\n",
       "      <td>Employee</td>\n",
       "      <td>42000</td>\n",
       "      <td>Per Annum</td>\n",
       "      <td>RESEARCH ASSOCIATE</td>\n",
       "      <td>18</td>\n",
       "    </tr>\n",
       "    <tr>\n",
       "      <th>385</th>\n",
       "      <td>Sarsour, Nora N.</td>\n",
       "      <td>Employee</td>\n",
       "      <td>42000</td>\n",
       "      <td>Per Annum</td>\n",
       "      <td>STAFF ASSISTANT</td>\n",
       "      <td>15</td>\n",
       "    </tr>\n",
       "  </tbody>\n",
       "</table>\n",
       "</div>"
      ],
      "text/plain": [
       "                      Name    Status  Salary  Pay Basis  \\\n",
       "243    Leary, Kimberlyn R.  Employee       0  Per Annum   \n",
       "326          Park, Todd Y.  Employee       0  Per Annum   \n",
       "235       Lamm, Garrett C.  Employee   41000  Per Annum   \n",
       "85   Conn-Powers, Alyse C.  Employee   42000  Per Annum   \n",
       "91      Cutillo, Andrew D.  Employee   42000  Per Annum   \n",
       "100   Dessources, Kalisha   Employee   42000  Per Annum   \n",
       "281     McKay, Caroline M.  Employee   42000  Per Annum   \n",
       "108     Donohue, Kelsey A.  Employee   42000  Per Annum   \n",
       "385       Sarsour, Nora N.  Employee   42000  Per Annum   \n",
       "\n",
       "                                Position Title  Title Length  \n",
       "243  ADVISOR TO THE COUNCIL ON WOMEN AND GIRLS            41  \n",
       "326                     ADVISOR FOR TECHNOLOGY            22  \n",
       "235                                    ANALYST             7  \n",
       "85                                     ANALYST             7  \n",
       "91                                     ANALYST             7  \n",
       "100                            STAFF ASSISTANT            15  \n",
       "281                            STAFF ASSISTANT            15  \n",
       "108                         RESEARCH ASSOCIATE            18  \n",
       "385                            STAFF ASSISTANT            15  "
      ]
     },
     "execution_count": 13,
     "metadata": {},
     "output_type": "execute_result"
    }
   ],
   "source": [
    "# Find the 10 lowest paid staffers\n",
    "ten_lowest = white_house_salary_sorted.iloc[:9,:]\n",
    "\n",
    "# Display the result\n",
    "ten_lowest"
   ]
  },
  {
   "cell_type": "code",
   "execution_count": 33,
   "metadata": {
    "collapsed": false
   },
   "outputs": [
    {
     "data": {
      "text/html": [
       "<div>\n",
       "<table border=\"1\" class=\"dataframe\">\n",
       "  <thead>\n",
       "    <tr style=\"text-align: right;\">\n",
       "      <th></th>\n",
       "      <th>Name</th>\n",
       "      <th>Status</th>\n",
       "      <th>Salary</th>\n",
       "      <th>Pay Basis</th>\n",
       "      <th>Position Title</th>\n",
       "      <th>Title Length</th>\n",
       "    </tr>\n",
       "  </thead>\n",
       "  <tbody>\n",
       "    <tr>\n",
       "      <th>235</th>\n",
       "      <td>Lamm, Garrett C.</td>\n",
       "      <td>Employee</td>\n",
       "      <td>41000</td>\n",
       "      <td>Per Annum</td>\n",
       "      <td>ANALYST</td>\n",
       "      <td>7</td>\n",
       "    </tr>\n",
       "    <tr>\n",
       "      <th>85</th>\n",
       "      <td>Conn-Powers, Alyse C.</td>\n",
       "      <td>Employee</td>\n",
       "      <td>42000</td>\n",
       "      <td>Per Annum</td>\n",
       "      <td>ANALYST</td>\n",
       "      <td>7</td>\n",
       "    </tr>\n",
       "    <tr>\n",
       "      <th>91</th>\n",
       "      <td>Cutillo, Andrew D.</td>\n",
       "      <td>Employee</td>\n",
       "      <td>42000</td>\n",
       "      <td>Per Annum</td>\n",
       "      <td>ANALYST</td>\n",
       "      <td>7</td>\n",
       "    </tr>\n",
       "    <tr>\n",
       "      <th>100</th>\n",
       "      <td>Dessources, Kalisha</td>\n",
       "      <td>Employee</td>\n",
       "      <td>42000</td>\n",
       "      <td>Per Annum</td>\n",
       "      <td>STAFF ASSISTANT</td>\n",
       "      <td>15</td>\n",
       "    </tr>\n",
       "    <tr>\n",
       "      <th>281</th>\n",
       "      <td>McKay, Caroline M.</td>\n",
       "      <td>Employee</td>\n",
       "      <td>42000</td>\n",
       "      <td>Per Annum</td>\n",
       "      <td>STAFF ASSISTANT</td>\n",
       "      <td>15</td>\n",
       "    </tr>\n",
       "    <tr>\n",
       "      <th>108</th>\n",
       "      <td>Donohue, Kelsey A.</td>\n",
       "      <td>Employee</td>\n",
       "      <td>42000</td>\n",
       "      <td>Per Annum</td>\n",
       "      <td>RESEARCH ASSOCIATE</td>\n",
       "      <td>18</td>\n",
       "    </tr>\n",
       "    <tr>\n",
       "      <th>385</th>\n",
       "      <td>Sarsour, Nora N.</td>\n",
       "      <td>Employee</td>\n",
       "      <td>42000</td>\n",
       "      <td>Per Annum</td>\n",
       "      <td>STAFF ASSISTANT</td>\n",
       "      <td>15</td>\n",
       "    </tr>\n",
       "    <tr>\n",
       "      <th>305</th>\n",
       "      <td>Munro, Marea L.</td>\n",
       "      <td>Employee</td>\n",
       "      <td>42000</td>\n",
       "      <td>Per Annum</td>\n",
       "      <td>RECORDS MANAGEMENT ANALYST</td>\n",
       "      <td>26</td>\n",
       "    </tr>\n",
       "    <tr>\n",
       "      <th>45</th>\n",
       "      <td>Bowerman, Heidi L.</td>\n",
       "      <td>Employee</td>\n",
       "      <td>42000</td>\n",
       "      <td>Per Annum</td>\n",
       "      <td>ANALYST</td>\n",
       "      <td>7</td>\n",
       "    </tr>\n",
       "  </tbody>\n",
       "</table>\n",
       "</div>"
      ],
      "text/plain": [
       "                      Name    Status  Salary  Pay Basis  \\\n",
       "235       Lamm, Garrett C.  Employee   41000  Per Annum   \n",
       "85   Conn-Powers, Alyse C.  Employee   42000  Per Annum   \n",
       "91      Cutillo, Andrew D.  Employee   42000  Per Annum   \n",
       "100   Dessources, Kalisha   Employee   42000  Per Annum   \n",
       "281     McKay, Caroline M.  Employee   42000  Per Annum   \n",
       "108     Donohue, Kelsey A.  Employee   42000  Per Annum   \n",
       "385       Sarsour, Nora N.  Employee   42000  Per Annum   \n",
       "305        Munro, Marea L.  Employee   42000  Per Annum   \n",
       "45      Bowerman, Heidi L.  Employee   42000  Per Annum   \n",
       "\n",
       "                 Position Title  Title Length  \n",
       "235                     ANALYST             7  \n",
       "85                      ANALYST             7  \n",
       "91                      ANALYST             7  \n",
       "100             STAFF ASSISTANT            15  \n",
       "281             STAFF ASSISTANT            15  \n",
       "108          RESEARCH ASSOCIATE            18  \n",
       "385             STAFF ASSISTANT            15  \n",
       "305  RECORDS MANAGEMENT ANALYST            26  \n",
       "45                      ANALYST             7  "
      ]
     },
     "execution_count": 33,
     "metadata": {},
     "output_type": "execute_result"
    }
   ],
   "source": [
    "# Remove the rows with a salary of 0\n",
    "ten_lowest = white_house_salary_sorted[white_house_salary_sorted[\"Salary\"] != 0].iloc[:9,:]\n",
    "\n",
    "# Display the result\n",
    "ten_lowest"
   ]
  },
  {
   "cell_type": "markdown",
   "metadata": {},
   "source": [
    "Display the distribution of the Salary column, histogram with 50 bins. Create this one manually."
   ]
  },
  {
   "cell_type": "code",
   "execution_count": 51,
   "metadata": {
    "collapsed": false
   },
   "outputs": [
    {
     "data": {
      "image/png": "[encoded data removed]",
      "text/plain": [
       "<matplotlib.figure.Figure at 0x7f7cdde4c438>"
      ]
     },
     "metadata": {},
     "output_type": "display_data"
    }
   ],
   "source": [
    "# Create a Figure instance\n",
    "fig = plt.figure(figsize=(10,5))\n",
    "# Create a subplot\n",
    "ax = fig.add_subplot(1,1,1)\n",
    "\n",
    "# Shortcut variables\n",
    "salary = white_house_data[\"Salary\"]\n",
    "\n",
    "# Set the title\n",
    "ax.set_title(\"Salary Distribution\")\n",
    "\n",
    "# Generate the histogram\n",
    "ax.hist(salary, bins=50)\n",
    "\n",
    "plt.show()"
   ]
  },
  {
   "cell_type": "markdown",
   "metadata": {},
   "source": [
    "### Question 4: What words are the most common in titles?"
   ]
  },
  {
   "cell_type": "markdown",
   "metadata": {},
   "source": [
    "First we need the list of all the words in all the titles."
   ]
  },
  {
   "cell_type": "code",
   "execution_count": 15,
   "metadata": {
    "collapsed": false
   },
   "outputs": [],
   "source": [
    "# Find all words contained in all the titles\n",
    "split_titles = []\n",
    "for title in white_house_data[\"Position Title\"]:\n",
    "    split_titles.append(title.split())"
   ]
  },
  {
   "cell_type": "markdown",
   "metadata": {},
   "source": [
    "Issue: split_titles is a list of lists. We need to flatten it so we can convert it to a Series."
   ]
  },
  {
   "cell_type": "code",
   "execution_count": 16,
   "metadata": {
    "collapsed": false
   },
   "outputs": [],
   "source": [
    "# Import the itertools package\n",
    "import itertools\n",
    "\n",
    "# Flatten the list\n",
    "split_titles_flattened = list(itertools.chain.from_iterable(split_titles))"
   ]
  },
  {
   "cell_type": "code",
   "execution_count": 17,
   "metadata": {
    "collapsed": false
   },
   "outputs": [],
   "source": [
    "# Convert to a series\n",
    "titles_series = pd.Series(data=split_titles_flattened)"
   ]
  },
  {
   "cell_type": "markdown",
   "metadata": {},
   "source": [
    "We want to remove stopwords from the Series. Ideally using a full list of words; for now we'll do it manually."
   ]
  },
  {
   "cell_type": "code",
   "execution_count": 18,
   "metadata": {
    "collapsed": true
   },
   "outputs": [],
   "source": [
    "# Create a list of stopwords\n",
    "stop = [\"THE\", \"TO\", \"AND\", \"OF\", \"FOR\"]\n",
    "\n",
    "# Replace the stopwords with '' in the Series\n",
    "titles_series_stop = titles_series.replace(to_replace=stop, value='')\n",
    "\n",
    "# Remove '' from the Series\n",
    "titles_series_final = titles_series_stop[titles_series_stop != '']"
   ]
  },
  {
   "cell_type": "markdown",
   "metadata": {},
   "source": [
    "Finally, we can count the frequency of each item in the Series"
   ]
  },
  {
   "cell_type": "code",
   "execution_count": 52,
   "metadata": {
    "collapsed": false
   },
   "outputs": [
    {
     "data": {
      "text/plain": [
       "ASSISTANT    215\n",
       "DIRECTOR     146\n",
       "PRESIDENT    135\n",
       "SPECIAL      102\n",
       "DEPUTY        86\n",
       "dtype: int64"
      ]
     },
     "execution_count": 52,
     "metadata": {},
     "output_type": "execute_result"
    }
   ],
   "source": [
    "# Count the frequency of each item in the Series\n",
    "word_counts = titles_series_final.value_counts()\n",
    "\n",
    "# Show the first 5 words\n",
    "word_counts.head()"
   ]
  },
  {
   "cell_type": "markdown",
   "metadata": {},
   "source": [
    "**Visualisation:** create a bar plot of the 10 most common words and their frequency"
   ]
  },
  {
   "cell_type": "code",
   "execution_count": 59,
   "metadata": {
    "collapsed": false
   },
   "outputs": [
    {
     "data": {
      "text/plain": [
       "<matplotlib.axes._subplots.AxesSubplot at 0x7f7cddd7ae80>"
      ]
     },
     "execution_count": 59,
     "metadata": {},
     "output_type": "execute_result"
    },
    {
     "data": {
      "image/png": "[encoded data removed]",
      "text/plain": [
       "<matplotlib.figure.Figure at 0x7f7cdde2e7b8>"
      ]
     },
     "metadata": {},
     "output_type": "display_data"
    }
   ],
   "source": [
    "# Plot the 10 most common words and their frequency\n",
    "word_counts.head(10).plot(kind=\"bar\")"
   ]
  },
  {
   "cell_type": "markdown",
   "metadata": {},
   "source": [
    "**Answer 4:** The most common words in titles are ASSISTANT, DIRECTOR, PRESIDENT, SPECIAL and DEPUTY."
   ]
  },
  {
   "cell_type": "markdown",
   "metadata": {},
   "source": [
    "### Question 5: How much does the word 'Senior' add to one's salary expectation?"
   ]
  },
  {
   "cell_type": "markdown",
   "metadata": {},
   "source": [
    "Easy way: compute the average salary for all positions w/o Senior, compute for positions w/ Senior and compare."
   ]
  },
  {
   "cell_type": "markdown",
   "metadata": {},
   "source": [
    "We'll define a function which takes a string and boolean as arguments. The function should return the average salary for the employees whose titles contain the string (if boolean=True, default value)."
   ]
  },
  {
   "cell_type": "code",
   "execution_count": 20,
   "metadata": {
    "collapsed": true
   },
   "outputs": [],
   "source": [
    "# Define the average_salary_for_group function\n",
    "def avg_salary_for_group(string, contains=True):\n",
    "    # Find the set of employees whose titles contain, or don't contain the string\n",
    "    employee_subset = white_house_data[white_house_data[\"Position Title\"].str.contains(string) == contains]\n",
    "    # Compute the average salary for these employees\n",
    "    average_salary = employee_subset[\"Salary\"].mean()\n",
    "    # Return the average salary\n",
    "    return average_salary"
   ]
  },
  {
   "cell_type": "code",
   "execution_count": 21,
   "metadata": {
    "collapsed": false
   },
   "outputs": [
    {
     "name": "stdout",
     "output_type": "stream",
     "text": [
      "92146.0714286\n"
     ]
    }
   ],
   "source": [
    "# Find the average salary for Senior employees\n",
    "avg_senior_salary = avg_salary_for_group(\"SENIOR\")\n",
    "print(avg_senior_salary)"
   ]
  },
  {
   "cell_type": "code",
   "execution_count": 22,
   "metadata": {
    "collapsed": false
   },
   "outputs": [
    {
     "name": "stdout",
     "output_type": "stream",
     "text": [
      "83602.4009901\n"
     ]
    }
   ],
   "source": [
    "# Find the average salary for Junior employees\n",
    "avg_junior_salary = avg_salary_for_group(\"SENIOR\", False)\n",
    "print(avg_junior_salary)"
   ]
  },
  {
   "cell_type": "code",
   "execution_count": 23,
   "metadata": {
    "collapsed": false
   },
   "outputs": [
    {
     "data": {
      "text/plain": [
       "8543.6704384724289"
      ]
     },
     "execution_count": 23,
     "metadata": {},
     "output_type": "execute_result"
    }
   ],
   "source": [
    "# Compute the difference\n",
    "average_difference = avg_senior_salary - avg_junior_salary\n",
    "average_difference"
   ]
  },
  {
   "cell_type": "markdown",
   "metadata": {},
   "source": [
    "**Answer 5.1:** On average, Senior employees' salaries are higher than Junior employees' by $8,543 per year.\n",
    "*It could be that the difference between Senior and Junior employees' salaries vary according to the position. See the harder way below.*"
   ]
  },
  {
   "cell_type": "markdown",
   "metadata": {},
   "source": [
    "Harder way: compare by position"
   ]
  },
  {
   "cell_type": "markdown",
   "metadata": {},
   "source": [
    "### Question 6: Who earns more; detailees or employees?"
   ]
  },
  {
   "cell_type": "markdown",
   "metadata": {},
   "source": [
    "This is an easy one. All we need to do is compute the average salary for both groups."
   ]
  },
  {
   "cell_type": "code",
   "execution_count": 24,
   "metadata": {
    "collapsed": false
   },
   "outputs": [
    {
     "data": {
      "text/plain": [
       "Status\n",
       "Detailee    125287\n",
       "Employee     81541\n",
       "Name: Salary, dtype: int64"
      ]
     },
     "execution_count": 24,
     "metadata": {},
     "output_type": "execute_result"
    }
   ],
   "source": [
    "# Find the average salaries for both groups using a pivot table\n",
    "average_salaries = white_house_data.pivot_table(index=\"Status\", values=\"Salary\")\n",
    "average_salaries"
   ]
  },
  {
   "cell_type": "code",
   "execution_count": 25,
   "metadata": {
    "collapsed": false
   },
   "outputs": [
    {
     "name": "stdout",
     "output_type": "stream",
     "text": [
      "Detailees earn more than employees.\n"
     ]
    }
   ],
   "source": [
    "# Assign the average salaries to two variables\n",
    "detailees_average_salary = average_salaries[0]\n",
    "employees_average_salary = average_salaries[1]\n",
    "\n",
    "# Display which group earns the most:\n",
    "if detailees_average_salary - employees_average_salary > 0:\n",
    "    print(\"Detailees earn more than employees.\")\n",
    "elif detailees_average_salary - employees_average_salary < 0:\n",
    "    print(\"Employees earn more than detailees.\")\n",
    "else:\n",
    "    print(\"Employees and detailees earn the same amount on average.\")"
   ]
  },
  {
   "cell_type": "markdown",
   "metadata": {},
   "source": [
    "### Question 7: Which position has the highest average salary?"
   ]
  },
  {
   "cell_type": "markdown",
   "metadata": {},
   "source": [
    "Easy one again: use two pivot tables to find the average salary per position."
   ]
  },
  {
   "cell_type": "code",
   "execution_count": 26,
   "metadata": {
    "collapsed": false
   },
   "outputs": [
    {
     "data": {
      "text/plain": [
       "Position Title\n",
       "ADVANCE COORDINATOR                           90450\n",
       "ADVANCE LEAD                                  50500\n",
       "ADVISOR FOR TECHNOLOGY                            0\n",
       "ADVISOR TO THE COUNCIL ON WOMEN AND GIRLS         0\n",
       "ANALYST                                      591204\n",
       "Name: Salary, dtype: int64"
      ]
     },
     "execution_count": 26,
     "metadata": {},
     "output_type": "execute_result"
    }
   ],
   "source": [
    "# Sum the salaries for each position\n",
    "salary_sums = white_house_data.pivot_table(index=\"Position Title\", values=\"Salary\", aggfunc=sum)\n",
    "\n",
    "salary_sums.head()"
   ]
  },
  {
   "cell_type": "code",
   "execution_count": 27,
   "metadata": {
    "collapsed": false
   },
   "outputs": [
    {
     "data": {
      "text/plain": [
       "Position Title\n",
       "ADVANCE COORDINATOR                           2\n",
       "ADVANCE LEAD                                  1\n",
       "ADVISOR FOR TECHNOLOGY                        1\n",
       "ADVISOR TO THE COUNCIL ON WOMEN AND GIRLS     1\n",
       "ANALYST                                      14\n",
       "Name: Name, dtype: int64"
      ]
     },
     "execution_count": 27,
     "metadata": {},
     "output_type": "execute_result"
    }
   ],
   "source": [
    "import numpy\n",
    "# Find the number of employees for each position\n",
    "employees_per_position = white_house_data.pivot_table(index=\"Position Title\", values=\"Name\", aggfunc=numpy.count_nonzero)\n",
    "\n",
    "employees_per_position.head()"
   ]
  },
  {
   "cell_type": "code",
   "execution_count": 28,
   "metadata": {
    "collapsed": false
   },
   "outputs": [
    {
     "data": {
      "text/plain": [
       "Position Title\n",
       "ASSISTANT TO THE PRESIDENT AND COUNSEL TO THE PRESIDENT                         173922\n",
       "ASSISTANT TO THE PRESIDENT AND DIRECTOR OF THE OFFICE OF LEGISLATIVE AFFAIRS    173922\n",
       "ASSISTANT TO THE PRESIDENT AND CHIEF OF STAFF TO THE FIRST LADY                 173922\n",
       "ASSISTANT TO THE PRESIDENT AND CABINET SECRETARY                                173922\n",
       "ASSISTANT TO THE PRESIDENT FOR MANAGEMENT AND ADMINISTRATION                    173922\n",
       "dtype: float64"
      ]
     },
     "execution_count": 28,
     "metadata": {},
     "output_type": "execute_result"
    }
   ],
   "source": [
    "# Find the average salary for each position\n",
    "average_salary_per_position = salary_sums / employees_per_position\n",
    "\n",
    "# Sort on the average salary\n",
    "average_salary_sorted = average_salary_per_position.sort_values(ascending=False)\n",
    "\n",
    "# Display the highest 5 average salaries\n",
    "average_salary_sorted.head()"
   ]
  },
  {
   "cell_type": "markdown",
   "metadata": {},
   "source": [
    "It turns out many positions have the exact same yearly salary."
   ]
  }
 ],
 "metadata": {
  "anaconda-cloud": {},
  "kernelspec": {
   "display_name": "Python 3",
   "language": "python",
   "name": "python3"
  },
  "language_info": {
   "codemirror_mode": {
    "name": "ipython",
    "version": 3
   },
   "file_extension": ".py",
   "mimetype": "text/x-python",
   "name": "python",
   "nbconvert_exporter": "python",
   "pygments_lexer": "ipython3",
   "version": "3.4.3"
  }
 },
 "nbformat": 4,
 "nbformat_minor": 0
}
